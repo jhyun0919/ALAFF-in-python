{
 "cells": [
  {
   "cell_type": "code",
   "execution_count": 1,
   "metadata": {
    "ExecuteTime": {
     "end_time": "2020-12-21T19:52:54.759731Z",
     "start_time": "2020-12-21T19:52:54.753352Z"
    }
   },
   "outputs": [],
   "source": [
    "from flame import *\n",
    "import numpy as np"
   ]
  },
  {
   "cell_type": "markdown",
   "metadata": {},
   "source": [
    "# FLA_Cont\n",
    "## 1x3_to_1x2"
   ]
  },
  {
   "cell_type": "code",
   "execution_count": 2,
   "metadata": {
    "ExecuteTime": {
     "end_time": "2020-12-21T19:52:54.854635Z",
     "start_time": "2020-12-21T19:52:54.846620Z"
    }
   },
   "outputs": [
    {
     "data": {
      "text/plain": [
       "array([[1, 2, 3],\n",
       "       [4, 5, 6],\n",
       "       [7, 8, 9]])"
      ]
     },
     "execution_count": 2,
     "metadata": {},
     "output_type": "execute_result"
    }
   ],
   "source": [
    "A = np.array([[1, 2, 3], [4, 5, 6], [7, 8, 9]])\n",
    "\n",
    "A"
   ]
  },
  {
   "cell_type": "code",
   "execution_count": 3,
   "metadata": {
    "ExecuteTime": {
     "end_time": "2020-12-21T19:52:54.859948Z",
     "start_time": "2020-12-21T19:52:54.856385Z"
    }
   },
   "outputs": [
    {
     "data": {
      "text/plain": [
       "(array([[1, 2],\n",
       "        [4, 5],\n",
       "        [7, 8]]),\n",
       " array([[3],\n",
       "        [6],\n",
       "        [9]]))"
      ]
     },
     "execution_count": 3,
     "metadata": {},
     "output_type": "execute_result"
    }
   ],
   "source": [
    "AL, AR = FLA_Cont_with_1x3_to_1x2(A0=A[:, 0],\n",
    "                                  A1=A[:, 1],\n",
    "                                  A2=A[:, 2],\n",
    "                                  side=\"FLA_LEFT\")\n",
    "\n",
    "AL, AR"
   ]
  },
  {
   "cell_type": "code",
   "execution_count": 4,
   "metadata": {
    "ExecuteTime": {
     "end_time": "2020-12-21T19:52:54.865371Z",
     "start_time": "2020-12-21T19:52:54.861758Z"
    }
   },
   "outputs": [
    {
     "data": {
      "text/plain": [
       "(array([[1],\n",
       "        [4],\n",
       "        [7]]),\n",
       " array([[2, 3],\n",
       "        [5, 6],\n",
       "        [8, 9]]))"
      ]
     },
     "execution_count": 4,
     "metadata": {},
     "output_type": "execute_result"
    }
   ],
   "source": [
    "AL, AR = FLA_Cont_with_1x3_to_1x2(A0=A[:, 0],\n",
    "                                  A1=A[:, 1],\n",
    "                                  A2=A[:, 2],\n",
    "                                  side=\"FLA_RIGHT\")\n",
    "\n",
    "AL, AR"
   ]
  },
  {
   "cell_type": "markdown",
   "metadata": {
    "ExecuteTime": {
     "end_time": "2020-12-21T18:43:04.866284Z",
     "start_time": "2020-12-21T18:43:04.864310Z"
    }
   },
   "source": [
    "## 3x1_to_2x1"
   ]
  },
  {
   "cell_type": "code",
   "execution_count": 5,
   "metadata": {
    "ExecuteTime": {
     "end_time": "2020-12-21T19:52:54.939811Z",
     "start_time": "2020-12-21T19:52:54.935592Z"
    }
   },
   "outputs": [
    {
     "data": {
      "text/plain": [
       "(array([[1, 2, 3],\n",
       "        [4, 5, 6]]),\n",
       " array([[7, 8, 9]]))"
      ]
     },
     "execution_count": 5,
     "metadata": {},
     "output_type": "execute_result"
    }
   ],
   "source": [
    "AT, AB = FLA_Cont_with_3x1_to_2x1(A0=A[0, :],\n",
    "                                  A1=A[1, :],\n",
    "                                  A2=A[2:, :],\n",
    "                                  side=\"FLA_TOP\")\n",
    "AT, AB"
   ]
  },
  {
   "cell_type": "code",
   "execution_count": 6,
   "metadata": {
    "ExecuteTime": {
     "end_time": "2020-12-21T19:52:54.946491Z",
     "start_time": "2020-12-21T19:52:54.942685Z"
    }
   },
   "outputs": [
    {
     "data": {
      "text/plain": [
       "(array([[1, 2, 3]]),\n",
       " array([[4, 5, 6],\n",
       "        [7, 8, 9]]))"
      ]
     },
     "execution_count": 6,
     "metadata": {},
     "output_type": "execute_result"
    }
   ],
   "source": [
    "AT, AB = FLA_Cont_with_3x1_to_2x1(A0=A[0, :],\n",
    "                                  A1=A[1, :],\n",
    "                                  A2=A[2:, :],\n",
    "                                  side=\"FLA_BOTTOM\")\n",
    "AT, AB"
   ]
  },
  {
   "cell_type": "markdown",
   "metadata": {},
   "source": [
    "## 3x3_to_2x2"
   ]
  },
  {
   "cell_type": "code",
   "execution_count": 7,
   "metadata": {
    "ExecuteTime": {
     "end_time": "2020-12-21T19:52:55.026751Z",
     "start_time": "2020-12-21T19:52:55.021631Z"
    }
   },
   "outputs": [
    {
     "data": {
      "text/plain": [
       "(array([[1, 2],\n",
       "        [4, 5]]),\n",
       " array([[3],\n",
       "        [6]]),\n",
       " array([[7, 8]]),\n",
       " array([[9]]))"
      ]
     },
     "execution_count": 7,
     "metadata": {},
     "output_type": "execute_result"
    }
   ],
   "source": [
    "ATL, ATR, ABL, ABR = FLA_Cont_with_3x3_to_2x2(A00=A[0, 0],\n",
    "                                              A01=A[0, 1],\n",
    "                                              A02=A[0, 2],\n",
    "                                              A10=A[1, 0],\n",
    "                                              A11=A[1, 1],\n",
    "                                              A12=A[1, 2],\n",
    "                                              A20=A[2, 0],\n",
    "                                              A21=A[2, 1],\n",
    "                                              A22=A[2, 2],\n",
    "                                              quadrant=\"FLA_TL\")\n",
    "ATL, ATR, ABL, ABR"
   ]
  },
  {
   "cell_type": "code",
   "execution_count": 8,
   "metadata": {
    "ExecuteTime": {
     "end_time": "2020-12-21T19:52:55.034578Z",
     "start_time": "2020-12-21T19:52:55.029690Z"
    }
   },
   "outputs": [
    {
     "data": {
      "text/plain": [
       "(array([[1],\n",
       "        [4]]),\n",
       " array([[2, 3],\n",
       "        [5, 6]]),\n",
       " array([[7]]),\n",
       " array([[8, 9]]))"
      ]
     },
     "execution_count": 8,
     "metadata": {},
     "output_type": "execute_result"
    }
   ],
   "source": [
    "ATL, ATR, ABL, ABR = FLA_Cont_with_3x3_to_2x2(A00=A[0, 0],\n",
    "                                              A01=A[0, 1],\n",
    "                                              A02=A[0, 2],\n",
    "                                              A10=A[1, 0],\n",
    "                                              A11=A[1, 1],\n",
    "                                              A12=A[1, 2],\n",
    "                                              A20=A[2, 0],\n",
    "                                              A21=A[2, 1],\n",
    "                                              A22=A[2, 2],\n",
    "                                              quadrant=\"FLA_TR\")\n",
    "ATL, ATR, ABL, ABR"
   ]
  },
  {
   "cell_type": "code",
   "execution_count": 9,
   "metadata": {
    "ExecuteTime": {
     "end_time": "2020-12-21T19:52:55.041591Z",
     "start_time": "2020-12-21T19:52:55.036558Z"
    }
   },
   "outputs": [
    {
     "data": {
      "text/plain": [
       "(array([[1, 2]]),\n",
       " array([[3]]),\n",
       " array([[4, 5],\n",
       "        [7, 8]]),\n",
       " array([[6],\n",
       "        [9]]))"
      ]
     },
     "execution_count": 9,
     "metadata": {},
     "output_type": "execute_result"
    }
   ],
   "source": [
    "ATL, ATR, ABL, ABR = FLA_Cont_with_3x3_to_2x2(A00=A[0, 0],\n",
    "                                              A01=A[0, 1],\n",
    "                                              A02=A[0, 2],\n",
    "                                              A10=A[1, 0],\n",
    "                                              A11=A[1, 1],\n",
    "                                              A12=A[1, 2],\n",
    "                                              A20=A[2, 0],\n",
    "                                              A21=A[2, 1],\n",
    "                                              A22=A[2, 2],\n",
    "                                              quadrant=\"FLA_BL\")\n",
    "ATL, ATR, ABL, ABR"
   ]
  },
  {
   "cell_type": "code",
   "execution_count": 10,
   "metadata": {
    "ExecuteTime": {
     "end_time": "2020-12-21T19:52:55.048928Z",
     "start_time": "2020-12-21T19:52:55.043662Z"
    }
   },
   "outputs": [
    {
     "data": {
      "text/plain": [
       "(array([[1]]),\n",
       " array([[2, 3]]),\n",
       " array([[4],\n",
       "        [7]]),\n",
       " array([[5, 6],\n",
       "        [8, 9]]))"
      ]
     },
     "execution_count": 10,
     "metadata": {},
     "output_type": "execute_result"
    }
   ],
   "source": [
    "ATL, ATR, ABL, ABR = FLA_Cont_with_3x3_to_2x2(A00=A[0, 0],\n",
    "                                              A01=A[0, 1],\n",
    "                                              A02=A[0, 2],\n",
    "                                              A10=A[1, 0],\n",
    "                                              A11=A[1, 1],\n",
    "                                              A12=A[1, 2],\n",
    "                                              A20=A[2, 0],\n",
    "                                              A21=A[2, 1],\n",
    "                                              A22=A[2, 2],\n",
    "                                              quadrant=\"FLA_BR\")\n",
    "ATL, ATR, ABL, ABR"
   ]
  },
  {
   "cell_type": "markdown",
   "metadata": {},
   "source": [
    "# FLA_Part"
   ]
  },
  {
   "cell_type": "code",
   "execution_count": 11,
   "metadata": {
    "ExecuteTime": {
     "end_time": "2020-12-21T19:52:55.120372Z",
     "start_time": "2020-12-21T19:52:55.117085Z"
    }
   },
   "outputs": [
    {
     "data": {
      "text/plain": [
       "array([[-0.79799126, -1.16703859, -1.00781106,  0.35731705, -0.67911133],\n",
       "       [-0.97607414, -1.56275613,  0.69778243, -1.48459135, -2.52966261],\n",
       "       [-0.30220238, -1.0961619 , -0.13051155, -1.84074622,  1.74953957],\n",
       "       [-1.72682255, -0.69084257,  1.55535419, -0.50862122,  0.10300934],\n",
       "       [-0.828981  ,  0.43974438, -0.68082967, -1.16313854,  0.23418778]])"
      ]
     },
     "execution_count": 11,
     "metadata": {},
     "output_type": "execute_result"
    }
   ],
   "source": [
    "A = np.random.normal(size=(5, 5))\n",
    "\n",
    "A"
   ]
  },
  {
   "cell_type": "markdown",
   "metadata": {},
   "source": [
    "## 1x2"
   ]
  },
  {
   "cell_type": "code",
   "execution_count": 12,
   "metadata": {
    "ExecuteTime": {
     "end_time": "2020-12-21T19:52:55.203569Z",
     "start_time": "2020-12-21T19:52:55.199841Z"
    }
   },
   "outputs": [
    {
     "data": {
      "text/plain": [
       "(array([[-0.79799126],\n",
       "        [-0.97607414],\n",
       "        [-0.30220238],\n",
       "        [-1.72682255],\n",
       "        [-0.828981  ]]),\n",
       " array([[-1.16703859, -1.00781106,  0.35731705, -0.67911133],\n",
       "        [-1.56275613,  0.69778243, -1.48459135, -2.52966261],\n",
       "        [-1.0961619 , -0.13051155, -1.84074622,  1.74953957],\n",
       "        [-0.69084257,  1.55535419, -0.50862122,  0.10300934],\n",
       "        [ 0.43974438, -0.68082967, -1.16313854,  0.23418778]]))"
      ]
     },
     "execution_count": 12,
     "metadata": {},
     "output_type": "execute_result"
    }
   ],
   "source": [
    "AL, AR = FLA_Part_1x2(A=A, nb=1, side=\"FLA_LEFT\")\n",
    "\n",
    "AL, AR"
   ]
  },
  {
   "cell_type": "code",
   "execution_count": 13,
   "metadata": {
    "ExecuteTime": {
     "end_time": "2020-12-21T19:52:55.210186Z",
     "start_time": "2020-12-21T19:52:55.206608Z"
    }
   },
   "outputs": [
    {
     "data": {
      "text/plain": [
       "(array([[-0.79799126, -1.16703859, -1.00781106,  0.35731705],\n",
       "        [-0.97607414, -1.56275613,  0.69778243, -1.48459135],\n",
       "        [-0.30220238, -1.0961619 , -0.13051155, -1.84074622],\n",
       "        [-1.72682255, -0.69084257,  1.55535419, -0.50862122],\n",
       "        [-0.828981  ,  0.43974438, -0.68082967, -1.16313854]]),\n",
       " array([[-0.67911133],\n",
       "        [-2.52966261],\n",
       "        [ 1.74953957],\n",
       "        [ 0.10300934],\n",
       "        [ 0.23418778]]))"
      ]
     },
     "execution_count": 13,
     "metadata": {},
     "output_type": "execute_result"
    }
   ],
   "source": [
    "AL, AR = FLA_Part_1x2(A=A, nb=1, side=\"FLA_RIGHT\")\n",
    "\n",
    "AL, AR"
   ]
  },
  {
   "cell_type": "markdown",
   "metadata": {},
   "source": [
    "## 2x1"
   ]
  },
  {
   "cell_type": "code",
   "execution_count": 14,
   "metadata": {
    "ExecuteTime": {
     "end_time": "2020-12-21T19:52:55.282274Z",
     "start_time": "2020-12-21T19:52:55.278814Z"
    }
   },
   "outputs": [
    {
     "data": {
      "text/plain": [
       "(array([[-0.79799126, -1.16703859, -1.00781106,  0.35731705, -0.67911133]]),\n",
       " array([[-0.97607414, -1.56275613,  0.69778243, -1.48459135, -2.52966261],\n",
       "        [-0.30220238, -1.0961619 , -0.13051155, -1.84074622,  1.74953957],\n",
       "        [-1.72682255, -0.69084257,  1.55535419, -0.50862122,  0.10300934],\n",
       "        [-0.828981  ,  0.43974438, -0.68082967, -1.16313854,  0.23418778]]))"
      ]
     },
     "execution_count": 14,
     "metadata": {},
     "output_type": "execute_result"
    }
   ],
   "source": [
    "AT, AB = FLA_Part_2x1(A=A, mb=1, side=\"FLA_TOP\")\n",
    "\n",
    "AT, AB"
   ]
  },
  {
   "cell_type": "code",
   "execution_count": 15,
   "metadata": {
    "ExecuteTime": {
     "end_time": "2020-12-21T19:52:55.289378Z",
     "start_time": "2020-12-21T19:52:55.285965Z"
    }
   },
   "outputs": [
    {
     "data": {
      "text/plain": [
       "(array([[-0.79799126, -1.16703859, -1.00781106,  0.35731705, -0.67911133],\n",
       "        [-0.97607414, -1.56275613,  0.69778243, -1.48459135, -2.52966261],\n",
       "        [-0.30220238, -1.0961619 , -0.13051155, -1.84074622,  1.74953957],\n",
       "        [-1.72682255, -0.69084257,  1.55535419, -0.50862122,  0.10300934]]),\n",
       " array([[-0.828981  ,  0.43974438, -0.68082967, -1.16313854,  0.23418778]]))"
      ]
     },
     "execution_count": 15,
     "metadata": {},
     "output_type": "execute_result"
    }
   ],
   "source": [
    "AT, AB = FLA_Part_2x1(A=A, mb=1, side=\"FLA_BOTTOM\")\n",
    "\n",
    "AT, AB"
   ]
  },
  {
   "cell_type": "markdown",
   "metadata": {},
   "source": [
    "## 2x2"
   ]
  },
  {
   "cell_type": "code",
   "execution_count": 16,
   "metadata": {
    "ExecuteTime": {
     "end_time": "2020-12-21T19:52:55.367548Z",
     "start_time": "2020-12-21T19:52:55.362493Z"
    }
   },
   "outputs": [
    {
     "data": {
      "text/plain": [
       "(array([[-0.79799126, -1.16703859, -1.00781106],\n",
       "        [-0.97607414, -1.56275613,  0.69778243]]),\n",
       " array([[ 0.35731705, -0.67911133],\n",
       "        [-1.48459135, -2.52966261]]),\n",
       " array([[-0.30220238, -1.0961619 , -0.13051155],\n",
       "        [-1.72682255, -0.69084257,  1.55535419],\n",
       "        [-0.828981  ,  0.43974438, -0.68082967]]),\n",
       " array([[-1.84074622,  1.74953957],\n",
       "        [-0.50862122,  0.10300934],\n",
       "        [-1.16313854,  0.23418778]]))"
      ]
     },
     "execution_count": 16,
     "metadata": {},
     "output_type": "execute_result"
    }
   ],
   "source": [
    "ATL, ATR, ABL, ABR = FLA_Part_2x2(A=A, mb=2, nb=3, quadrant=\"FLA_TL\")\n",
    "\n",
    "ATL, ATR, ABL, ABR"
   ]
  },
  {
   "cell_type": "code",
   "execution_count": 17,
   "metadata": {
    "ExecuteTime": {
     "end_time": "2020-12-21T19:52:55.374356Z",
     "start_time": "2020-12-21T19:52:55.370356Z"
    }
   },
   "outputs": [
    {
     "data": {
      "text/plain": [
       "(array([[-0.79799126, -1.16703859],\n",
       "        [-0.97607414, -1.56275613]]),\n",
       " array([[-1.00781106,  0.35731705, -0.67911133],\n",
       "        [ 0.69778243, -1.48459135, -2.52966261]]),\n",
       " array([[-0.30220238, -1.0961619 ],\n",
       "        [-1.72682255, -0.69084257],\n",
       "        [-0.828981  ,  0.43974438]]),\n",
       " array([[-0.13051155, -1.84074622,  1.74953957],\n",
       "        [ 1.55535419, -0.50862122,  0.10300934],\n",
       "        [-0.68082967, -1.16313854,  0.23418778]]))"
      ]
     },
     "execution_count": 17,
     "metadata": {},
     "output_type": "execute_result"
    }
   ],
   "source": [
    "ATL, ATR, ABL, ABR = FLA_Part_2x2(A=A, mb=2, nb=3, quadrant=\"FLA_TR\")\n",
    "\n",
    "ATL, ATR, ABL, ABR"
   ]
  },
  {
   "cell_type": "code",
   "execution_count": 18,
   "metadata": {
    "ExecuteTime": {
     "end_time": "2020-12-21T19:52:55.380598Z",
     "start_time": "2020-12-21T19:52:55.376275Z"
    }
   },
   "outputs": [
    {
     "data": {
      "text/plain": [
       "(array([[-0.79799126, -1.16703859, -1.00781106],\n",
       "        [-0.97607414, -1.56275613,  0.69778243],\n",
       "        [-0.30220238, -1.0961619 , -0.13051155]]),\n",
       " array([[ 0.35731705, -0.67911133],\n",
       "        [-1.48459135, -2.52966261],\n",
       "        [-1.84074622,  1.74953957]]),\n",
       " array([[-1.72682255, -0.69084257,  1.55535419],\n",
       "        [-0.828981  ,  0.43974438, -0.68082967]]),\n",
       " array([[-0.50862122,  0.10300934],\n",
       "        [-1.16313854,  0.23418778]]))"
      ]
     },
     "execution_count": 18,
     "metadata": {},
     "output_type": "execute_result"
    }
   ],
   "source": [
    "ATL, ATR, ABL, ABR = FLA_Part_2x2(A=A, mb=2, nb=3, quadrant=\"FLA_BL\")\n",
    "\n",
    "ATL, ATR, ABL, ABR"
   ]
  },
  {
   "cell_type": "code",
   "execution_count": 19,
   "metadata": {
    "ExecuteTime": {
     "end_time": "2020-12-21T19:52:55.386689Z",
     "start_time": "2020-12-21T19:52:55.382418Z"
    }
   },
   "outputs": [
    {
     "data": {
      "text/plain": [
       "(array([[-0.79799126, -1.16703859],\n",
       "        [-0.97607414, -1.56275613],\n",
       "        [-0.30220238, -1.0961619 ]]),\n",
       " array([[-1.00781106,  0.35731705, -0.67911133],\n",
       "        [ 0.69778243, -1.48459135, -2.52966261],\n",
       "        [-0.13051155, -1.84074622,  1.74953957]]),\n",
       " array([[-1.72682255, -0.69084257],\n",
       "        [-0.828981  ,  0.43974438]]),\n",
       " array([[ 1.55535419, -0.50862122,  0.10300934],\n",
       "        [-0.68082967, -1.16313854,  0.23418778]]))"
      ]
     },
     "execution_count": 19,
     "metadata": {},
     "output_type": "execute_result"
    }
   ],
   "source": [
    "ATL, ATR, ABL, ABR = FLA_Part_2x2(A=A, mb=2, nb=3, quadrant=\"FLA_BR\")\n",
    "\n",
    "ATL, ATR, ABL, ABR"
   ]
  },
  {
   "cell_type": "markdown",
   "metadata": {},
   "source": [
    "# FLA_Repart"
   ]
  },
  {
   "cell_type": "code",
   "execution_count": 20,
   "metadata": {
    "ExecuteTime": {
     "end_time": "2020-12-21T19:52:55.462342Z",
     "start_time": "2020-12-21T19:52:55.458805Z"
    }
   },
   "outputs": [
    {
     "data": {
      "text/plain": [
       "array([[1, 2, 3],\n",
       "       [4, 5, 6],\n",
       "       [7, 8, 9]])"
      ]
     },
     "execution_count": 20,
     "metadata": {},
     "output_type": "execute_result"
    }
   ],
   "source": [
    "A = np.array([[1, 2, 3], [4, 5, 6], [7, 8, 9]])\n",
    "\n",
    "A"
   ]
  },
  {
   "cell_type": "markdown",
   "metadata": {},
   "source": [
    "## 1x2_to_1x3"
   ]
  },
  {
   "cell_type": "code",
   "execution_count": 21,
   "metadata": {
    "ExecuteTime": {
     "end_time": "2020-12-21T19:52:55.550500Z",
     "start_time": "2020-12-21T19:52:55.546743Z"
    }
   },
   "outputs": [
    {
     "data": {
      "text/plain": [
       "(array([[1, 2],\n",
       "        [4, 5],\n",
       "        [7, 8]]),\n",
       " array([[3],\n",
       "        [6],\n",
       "        [9]]))"
      ]
     },
     "execution_count": 21,
     "metadata": {},
     "output_type": "execute_result"
    }
   ],
   "source": [
    "AL, AR = FLA_Cont_with_1x3_to_1x2(A0=A[:, 0],\n",
    "                                  A1=A[:, 1],\n",
    "                                  A2=A[:, 2],\n",
    "                                  side=\"FLA_LEFT\")\n",
    "\n",
    "AL, AR"
   ]
  },
  {
   "cell_type": "code",
   "execution_count": 22,
   "metadata": {
    "ExecuteTime": {
     "end_time": "2020-12-21T19:52:55.557763Z",
     "start_time": "2020-12-21T19:52:55.554235Z"
    }
   },
   "outputs": [
    {
     "data": {
      "text/plain": [
       "(array([[1],\n",
       "        [4],\n",
       "        [7]]),\n",
       " array([[2],\n",
       "        [5],\n",
       "        [8]]),\n",
       " array([[3],\n",
       "        [6],\n",
       "        [9]]))"
      ]
     },
     "execution_count": 22,
     "metadata": {},
     "output_type": "execute_result"
    }
   ],
   "source": [
    "A0, A1, A2 = FLA_Repart_1x2_to_1x3(AL=AL, AR=AR, nb=1, side=\"FLA_LEFT\")\n",
    "\n",
    "A0, A1, A2"
   ]
  },
  {
   "cell_type": "code",
   "execution_count": 23,
   "metadata": {
    "ExecuteTime": {
     "end_time": "2020-12-21T19:52:55.564323Z",
     "start_time": "2020-12-21T19:52:55.560004Z"
    }
   },
   "outputs": [
    {
     "data": {
      "text/plain": [
       "(array([[1],\n",
       "        [4],\n",
       "        [7]]),\n",
       " array([[2, 3],\n",
       "        [5, 6],\n",
       "        [8, 9]]))"
      ]
     },
     "execution_count": 23,
     "metadata": {},
     "output_type": "execute_result"
    }
   ],
   "source": [
    "AL, AR = FLA_Cont_with_1x3_to_1x2(A0=A[:, 0],\n",
    "                                  A1=A[:, 1],\n",
    "                                  A2=A[:, 2],\n",
    "                                  side=\"FLA_RIGHT\")\n",
    "\n",
    "AL, AR"
   ]
  },
  {
   "cell_type": "code",
   "execution_count": 24,
   "metadata": {
    "ExecuteTime": {
     "end_time": "2020-12-21T19:52:55.569638Z",
     "start_time": "2020-12-21T19:52:55.566169Z"
    }
   },
   "outputs": [
    {
     "data": {
      "text/plain": [
       "(array([[1],\n",
       "        [4],\n",
       "        [7]]),\n",
       " array([[2],\n",
       "        [5],\n",
       "        [8]]),\n",
       " array([[3],\n",
       "        [6],\n",
       "        [9]]))"
      ]
     },
     "execution_count": 24,
     "metadata": {},
     "output_type": "execute_result"
    }
   ],
   "source": [
    "A0, A1, A2 = FLA_Repart_1x2_to_1x3(AL=AL, AR=AR, nb=1, side=\"FLA_RIGHT\")\n",
    "\n",
    "A0, A1, A2"
   ]
  },
  {
   "cell_type": "markdown",
   "metadata": {},
   "source": [
    "## 2x1_to_3x1"
   ]
  },
  {
   "cell_type": "code",
   "execution_count": 25,
   "metadata": {
    "ExecuteTime": {
     "end_time": "2020-12-21T19:52:55.658641Z",
     "start_time": "2020-12-21T19:52:55.654897Z"
    }
   },
   "outputs": [
    {
     "data": {
      "text/plain": [
       "(array([[1, 2, 3],\n",
       "        [4, 5, 6]]),\n",
       " array([[7, 8, 9]]))"
      ]
     },
     "execution_count": 25,
     "metadata": {},
     "output_type": "execute_result"
    }
   ],
   "source": [
    "AT, AB = FLA_Cont_with_3x1_to_2x1(A0=A[0, :],\n",
    "                                  A1=A[1, :],\n",
    "                                  A2=A[2:, :],\n",
    "                                  side=\"FLA_TOP\")\n",
    "AT, AB"
   ]
  },
  {
   "cell_type": "code",
   "execution_count": 26,
   "metadata": {
    "ExecuteTime": {
     "end_time": "2020-12-21T19:52:55.665763Z",
     "start_time": "2020-12-21T19:52:55.662159Z"
    }
   },
   "outputs": [
    {
     "data": {
      "text/plain": [
       "(array([[1, 2, 3]]), array([[4, 5, 6]]), array([[7, 8, 9]]))"
      ]
     },
     "execution_count": 26,
     "metadata": {},
     "output_type": "execute_result"
    }
   ],
   "source": [
    "A0, A1, A2 = FLA_Repart_2x1_to_3x1(AT=AT, AB=AB, mb=1, side=\"FLA_TOP\")\n",
    "\n",
    "A0, A1, A2"
   ]
  },
  {
   "cell_type": "code",
   "execution_count": 27,
   "metadata": {
    "ExecuteTime": {
     "end_time": "2020-12-21T19:52:55.670990Z",
     "start_time": "2020-12-21T19:52:55.667481Z"
    }
   },
   "outputs": [
    {
     "data": {
      "text/plain": [
       "(array([[1, 2, 3]]),\n",
       " array([[4, 5, 6],\n",
       "        [7, 8, 9]]))"
      ]
     },
     "execution_count": 27,
     "metadata": {},
     "output_type": "execute_result"
    }
   ],
   "source": [
    "AT, AB = FLA_Cont_with_3x1_to_2x1(A0=A[0, :],\n",
    "                                  A1=A[1, :],\n",
    "                                  A2=A[2:, :],\n",
    "                                  side=\"FLA_BOTTOM\")\n",
    "AT, AB"
   ]
  },
  {
   "cell_type": "code",
   "execution_count": 28,
   "metadata": {
    "ExecuteTime": {
     "end_time": "2020-12-21T19:52:55.676454Z",
     "start_time": "2020-12-21T19:52:55.672864Z"
    }
   },
   "outputs": [
    {
     "data": {
      "text/plain": [
       "(array([[1, 2, 3]]), array([[4, 5, 6]]), array([[7, 8, 9]]))"
      ]
     },
     "execution_count": 28,
     "metadata": {},
     "output_type": "execute_result"
    }
   ],
   "source": [
    "A0, A1, A2 = FLA_Repart_2x1_to_3x1(AT=AT, AB=AB, mb=1, side=\"FLA_BOTTOM\")\n",
    "\n",
    "A0, A1, A2"
   ]
  },
  {
   "cell_type": "markdown",
   "metadata": {},
   "source": [
    "## 2x2_to_3x3"
   ]
  },
  {
   "cell_type": "code",
   "execution_count": 29,
   "metadata": {
    "ExecuteTime": {
     "end_time": "2020-12-21T19:52:55.756069Z",
     "start_time": "2020-12-21T19:52:55.750690Z"
    }
   },
   "outputs": [
    {
     "data": {
      "text/plain": [
       "(array([[1, 2],\n",
       "        [4, 5]]),\n",
       " array([[3],\n",
       "        [6]]),\n",
       " array([[7, 8]]),\n",
       " array([[9]]))"
      ]
     },
     "execution_count": 29,
     "metadata": {},
     "output_type": "execute_result"
    }
   ],
   "source": [
    "ATL, ATR, ABL, ABR = FLA_Cont_with_3x3_to_2x2(A00=A[0, 0],\n",
    "                                              A01=A[0, 1],\n",
    "                                              A02=A[0, 2],\n",
    "                                              A10=A[1, 0],\n",
    "                                              A11=A[1, 1],\n",
    "                                              A12=A[1, 2],\n",
    "                                              A20=A[2, 0],\n",
    "                                              A21=A[2, 1],\n",
    "                                              A22=A[2, 2],\n",
    "                                              quadrant=\"FLA_TL\")\n",
    "ATL, ATR, ABL, ABR"
   ]
  },
  {
   "cell_type": "code",
   "execution_count": 30,
   "metadata": {
    "ExecuteTime": {
     "end_time": "2020-12-21T19:52:55.763374Z",
     "start_time": "2020-12-21T19:52:55.758787Z"
    }
   },
   "outputs": [
    {
     "data": {
      "text/plain": [
       "(array([[1]]),\n",
       " array([[2]]),\n",
       " array([[3]]),\n",
       " array([[4]]),\n",
       " array([[5]]),\n",
       " array([[6]]),\n",
       " array([[7]]),\n",
       " array([[8]]),\n",
       " array([[9]]))"
      ]
     },
     "execution_count": 30,
     "metadata": {},
     "output_type": "execute_result"
    }
   ],
   "source": [
    "A00, A01, A02, A10, A11, A12, A20, A21, A22 = FLA_Repart_2x2_to_3x3(\n",
    "    ATL=ATL, ATR=ATR, ABL=ABL, ABR=ABR, bm=1, bn=1, quadrant=\"FLA_TL\")\n",
    "\n",
    "A00, A01, A02, A10, A11, A12, A20, A21, A22"
   ]
  },
  {
   "cell_type": "code",
   "execution_count": 31,
   "metadata": {
    "ExecuteTime": {
     "end_time": "2020-12-21T19:52:55.769968Z",
     "start_time": "2020-12-21T19:52:55.765137Z"
    }
   },
   "outputs": [
    {
     "data": {
      "text/plain": [
       "(array([[1],\n",
       "        [4]]),\n",
       " array([[2, 3],\n",
       "        [5, 6]]),\n",
       " array([[7]]),\n",
       " array([[8, 9]]))"
      ]
     },
     "execution_count": 31,
     "metadata": {},
     "output_type": "execute_result"
    }
   ],
   "source": [
    "ATL, ATR, ABL, ABR = FLA_Cont_with_3x3_to_2x2(A00=A[0, 0],\n",
    "                                              A01=A[0, 1],\n",
    "                                              A02=A[0, 2],\n",
    "                                              A10=A[1, 0],\n",
    "                                              A11=A[1, 1],\n",
    "                                              A12=A[1, 2],\n",
    "                                              A20=A[2, 0],\n",
    "                                              A21=A[2, 1],\n",
    "                                              A22=A[2, 2],\n",
    "                                              quadrant=\"FLA_TR\")\n",
    "ATL, ATR, ABL, ABR"
   ]
  },
  {
   "cell_type": "code",
   "execution_count": 32,
   "metadata": {
    "ExecuteTime": {
     "end_time": "2020-12-21T19:52:55.776273Z",
     "start_time": "2020-12-21T19:52:55.771764Z"
    }
   },
   "outputs": [
    {
     "data": {
      "text/plain": [
       "(array([[1]]),\n",
       " array([[2]]),\n",
       " array([[3]]),\n",
       " array([[4]]),\n",
       " array([[5]]),\n",
       " array([[6]]),\n",
       " array([[7]]),\n",
       " array([[8]]),\n",
       " array([[9]]))"
      ]
     },
     "execution_count": 32,
     "metadata": {},
     "output_type": "execute_result"
    }
   ],
   "source": [
    "A00, A01, A02, A10, A11, A12, A20, A21, A22 = FLA_Repart_2x2_to_3x3(\n",
    "    ATL=ATL, ATR=ATR, ABL=ABL, ABR=ABR, bm=1, bn=1, quadrant=\"FLA_TR\")\n",
    "\n",
    "A00, A01, A02, A10, A11, A12, A20, A21, A22"
   ]
  },
  {
   "cell_type": "code",
   "execution_count": 33,
   "metadata": {
    "ExecuteTime": {
     "end_time": "2020-12-21T19:52:55.783062Z",
     "start_time": "2020-12-21T19:52:55.778014Z"
    }
   },
   "outputs": [
    {
     "data": {
      "text/plain": [
       "(array([[1, 2]]),\n",
       " array([[3]]),\n",
       " array([[4, 5],\n",
       "        [7, 8]]),\n",
       " array([[6],\n",
       "        [9]]))"
      ]
     },
     "execution_count": 33,
     "metadata": {},
     "output_type": "execute_result"
    }
   ],
   "source": [
    "ATL, ATR, ABL, ABR = FLA_Cont_with_3x3_to_2x2(A00=A[0, 0],\n",
    "                                              A01=A[0, 1],\n",
    "                                              A02=A[0, 2],\n",
    "                                              A10=A[1, 0],\n",
    "                                              A11=A[1, 1],\n",
    "                                              A12=A[1, 2],\n",
    "                                              A20=A[2, 0],\n",
    "                                              A21=A[2, 1],\n",
    "                                              A22=A[2, 2],\n",
    "                                              quadrant=\"FLA_BL\")\n",
    "ATL, ATR, ABL, ABR"
   ]
  },
  {
   "cell_type": "code",
   "execution_count": 34,
   "metadata": {
    "ExecuteTime": {
     "end_time": "2020-12-21T19:52:55.789354Z",
     "start_time": "2020-12-21T19:52:55.784576Z"
    }
   },
   "outputs": [
    {
     "data": {
      "text/plain": [
       "(array([[1]]),\n",
       " array([[2]]),\n",
       " array([[3]]),\n",
       " array([[4]]),\n",
       " array([[5]]),\n",
       " array([[6]]),\n",
       " array([[7]]),\n",
       " array([[8]]),\n",
       " array([[9]]))"
      ]
     },
     "execution_count": 34,
     "metadata": {},
     "output_type": "execute_result"
    }
   ],
   "source": [
    "A00, A01, A02, A10, A11, A12, A20, A21, A22 = FLA_Repart_2x2_to_3x3(\n",
    "    ATL=ATL, ATR=ATR, ABL=ABL, ABR=ABR, bm=1, bn=1, quadrant=\"FLA_BL\")\n",
    "\n",
    "A00, A01, A02, A10, A11, A12, A20, A21, A22"
   ]
  },
  {
   "cell_type": "code",
   "execution_count": 35,
   "metadata": {
    "ExecuteTime": {
     "end_time": "2020-12-21T19:52:55.797084Z",
     "start_time": "2020-12-21T19:52:55.791716Z"
    }
   },
   "outputs": [
    {
     "data": {
      "text/plain": [
       "(array([[1]]),\n",
       " array([[2, 3]]),\n",
       " array([[4],\n",
       "        [7]]),\n",
       " array([[5, 6],\n",
       "        [8, 9]]))"
      ]
     },
     "execution_count": 35,
     "metadata": {},
     "output_type": "execute_result"
    }
   ],
   "source": [
    "ATL, ATR, ABL, ABR = FLA_Cont_with_3x3_to_2x2(A00=A[0, 0],\n",
    "                                              A01=A[0, 1],\n",
    "                                              A02=A[0, 2],\n",
    "                                              A10=A[1, 0],\n",
    "                                              A11=A[1, 1],\n",
    "                                              A12=A[1, 2],\n",
    "                                              A20=A[2, 0],\n",
    "                                              A21=A[2, 1],\n",
    "                                              A22=A[2, 2],\n",
    "                                              quadrant=\"FLA_BR\")\n",
    "ATL, ATR, ABL, ABR"
   ]
  },
  {
   "cell_type": "code",
   "execution_count": 36,
   "metadata": {
    "ExecuteTime": {
     "end_time": "2020-12-21T19:52:55.803158Z",
     "start_time": "2020-12-21T19:52:55.798697Z"
    }
   },
   "outputs": [
    {
     "data": {
      "text/plain": [
       "(array([[1]]),\n",
       " array([[2]]),\n",
       " array([[3]]),\n",
       " array([[4]]),\n",
       " array([[5]]),\n",
       " array([[6]]),\n",
       " array([[7]]),\n",
       " array([[8]]),\n",
       " array([[9]]))"
      ]
     },
     "execution_count": 36,
     "metadata": {},
     "output_type": "execute_result"
    }
   ],
   "source": [
    "A00, A01, A02, A10, A11, A12, A20, A21, A22 = FLA_Repart_2x2_to_3x3(\n",
    "    ATL=ATL, ATR=ATR, ABL=ABL, ABR=ABR, bm=1, bn=1, quadrant=\"FLA_BR\")\n",
    "\n",
    "A00, A01, A02, A10, A11, A12, A20, A21, A22"
   ]
  }
 ],
 "metadata": {
  "kernelspec": {
   "display_name": "Python 3",
   "language": "python",
   "name": "python3"
  },
  "language_info": {
   "codemirror_mode": {
    "name": "ipython",
    "version": 3
   },
   "file_extension": ".py",
   "mimetype": "text/x-python",
   "name": "python",
   "nbconvert_exporter": "python",
   "pygments_lexer": "ipython3",
   "version": "3.7.9"
  },
  "latex_envs": {
   "LaTeX_envs_menu_present": true,
   "autoclose": false,
   "autocomplete": true,
   "bibliofile": "biblio.bib",
   "cite_by": "apalike",
   "current_citInitial": 1,
   "eqLabelWithNumbers": true,
   "eqNumInitial": 1,
   "hotkeys": {
    "equation": "Ctrl-E",
    "itemize": "Ctrl-I"
   },
   "labels_anchors": false,
   "latex_user_defs": false,
   "report_style_numbering": false,
   "user_envs_cfg": false
  },
  "toc": {
   "base_numbering": 1,
   "nav_menu": {},
   "number_sections": false,
   "sideBar": true,
   "skip_h1_title": false,
   "title_cell": "Table of Contents",
   "title_sidebar": "Contents",
   "toc_cell": false,
   "toc_position": {
    "height": "calc(100% - 180px)",
    "left": "10px",
    "top": "150px",
    "width": "165px"
   },
   "toc_section_display": true,
   "toc_window_display": false
  },
  "varInspector": {
   "cols": {
    "lenName": 16,
    "lenType": 16,
    "lenVar": 40
   },
   "kernels_config": {
    "python": {
     "delete_cmd_postfix": "",
     "delete_cmd_prefix": "del ",
     "library": "var_list.py",
     "varRefreshCmd": "print(var_dic_list())"
    },
    "r": {
     "delete_cmd_postfix": ") ",
     "delete_cmd_prefix": "rm(",
     "library": "var_list.r",
     "varRefreshCmd": "cat(var_dic_list()) "
    }
   },
   "types_to_exclude": [
    "module",
    "function",
    "builtin_function_or_method",
    "instance",
    "_Feature"
   ],
   "window_display": false
  }
 },
 "nbformat": 4,
 "nbformat_minor": 4
}
