{
 "cells": [
  {
   "cell_type": "code",
   "execution_count": 2,
   "metadata": {
    "ExecuteTime": {
     "end_time": "2020-12-22T18:23:50.273878Z",
     "start_time": "2020-12-22T18:23:50.271452Z"
    }
   },
   "outputs": [],
   "source": [
    "import random\n",
    "import numpy as np"
   ]
  },
  {
   "cell_type": "code",
   "execution_count": 3,
   "metadata": {
    "ExecuteTime": {
     "end_time": "2020-12-22T18:23:50.601196Z",
     "start_time": "2020-12-22T18:23:50.598923Z"
    }
   },
   "outputs": [],
   "source": [
    "# seed the random number generator so that we all\n",
    "random.seed(0)"
   ]
  },
  {
   "cell_type": "code",
   "execution_count": 4,
   "metadata": {
    "ExecuteTime": {
     "end_time": "2020-12-22T18:24:07.141934Z",
     "start_time": "2020-12-22T18:24:07.138412Z"
    }
   },
   "outputs": [],
   "source": [
    "# problem size\n",
    "n = 5\n",
    "\n",
    "# create a random upper triangle matrix\n",
    "U = np.triu(np.random.normal(size=(n, n)))\n",
    "# create a random solution\n",
    "x = np.random.normal(size=(n, 1))\n",
    "\n",
    "# compute right-hand side b from known solution x\n",
    "b = np.dot(U, x)\n",
    "\n",
    "# solve U * xhat = b\n",
    "xhat = np.dot(np.linalg.inv(U), b)"
   ]
  },
  {
   "cell_type": "code",
   "execution_count": 5,
   "metadata": {
    "ExecuteTime": {
     "end_time": "2020-12-22T18:24:07.470212Z",
     "start_time": "2020-12-22T18:24:07.466039Z"
    }
   },
   "outputs": [
    {
     "name": "stdout",
     "output_type": "stream",
     "text": [
      "norm( xhat - x ) = 7.617707852799466e-16\n",
      "norm( b - U * xhat ) = 4.965068306494546e-16\n"
     ]
    }
   ],
   "source": [
    "if n <= 3:\n",
    "    # report the difference between xhat and x\n",
    "    print(\"xhat - x  =\\n{}\\n\".format(xhat - x))\n",
    "    # check how close U * xhat  is to b = U * x\n",
    "    print(\"b - U * xhat =\\n{}\".format(b - np.dot(U, xhat)))\n",
    "else:\n",
    "    # report the difference between xhat and x\n",
    "    print(\"norm( xhat - x ) = {}\".format(np.linalg.norm(xhat - x)))\n",
    "    # check how close U * xhat  is to b = U * x\n",
    "    print(\"norm( b - U * xhat ) = {}\".format(\n",
    "        np.linalg.norm(b - np.dot(U, xhat))))"
   ]
  },
  {
   "cell_type": "code",
   "execution_count": null,
   "metadata": {},
   "outputs": [],
   "source": []
  }
 ],
 "metadata": {
  "kernelspec": {
   "display_name": "Python 3",
   "language": "python",
   "name": "python3"
  },
  "language_info": {
   "codemirror_mode": {
    "name": "ipython",
    "version": 3
   },
   "file_extension": ".py",
   "mimetype": "text/x-python",
   "name": "python",
   "nbconvert_exporter": "python",
   "pygments_lexer": "ipython3",
   "version": "3.7.9"
  },
  "latex_envs": {
   "LaTeX_envs_menu_present": true,
   "autoclose": false,
   "autocomplete": true,
   "bibliofile": "biblio.bib",
   "cite_by": "apalike",
   "current_citInitial": 1,
   "eqLabelWithNumbers": true,
   "eqNumInitial": 1,
   "hotkeys": {
    "equation": "Ctrl-E",
    "itemize": "Ctrl-I"
   },
   "labels_anchors": false,
   "latex_user_defs": false,
   "report_style_numbering": false,
   "user_envs_cfg": false
  },
  "toc": {
   "base_numbering": 1,
   "nav_menu": {},
   "number_sections": false,
   "sideBar": true,
   "skip_h1_title": false,
   "title_cell": "Table of Contents",
   "title_sidebar": "Contents",
   "toc_cell": false,
   "toc_position": {},
   "toc_section_display": true,
   "toc_window_display": false
  },
  "varInspector": {
   "cols": {
    "lenName": 16,
    "lenType": 16,
    "lenVar": 40
   },
   "kernels_config": {
    "python": {
     "delete_cmd_postfix": "",
     "delete_cmd_prefix": "del ",
     "library": "var_list.py",
     "varRefreshCmd": "print(var_dic_list())"
    },
    "r": {
     "delete_cmd_postfix": ") ",
     "delete_cmd_prefix": "rm(",
     "library": "var_list.r",
     "varRefreshCmd": "cat(var_dic_list()) "
    }
   },
   "position": {
    "height": "338px",
    "left": "669px",
    "right": "20px",
    "top": "120px",
    "width": "335px"
   },
   "types_to_exclude": [
    "module",
    "function",
    "builtin_function_or_method",
    "instance",
    "_Feature"
   ],
   "window_display": false
  }
 },
 "nbformat": 4,
 "nbformat_minor": 4
}
