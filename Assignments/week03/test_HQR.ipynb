{
 "cells": [
  {
   "cell_type": "code",
   "execution_count": 1,
   "metadata": {},
   "outputs": [],
   "source": [
    "from functions import *\n",
    "import random"
   ]
  },
  {
   "cell_type": "code",
   "execution_count": 2,
   "metadata": {},
   "outputs": [],
   "source": [
    "# seed the random number generator so that we all\n",
    "random.seed(0)\n",
    "\n",
    "# Create random m x n matrix A\n",
    "m = 5\n",
    "n = 4\n",
    "A = np.random.normal(size=(m, n))\n",
    "\n",
    "# Call HQR\n",
    "A_out, t_out = HQR(A)"
   ]
  },
  {
   "cell_type": "code",
   "execution_count": 3,
   "metadata": {},
   "outputs": [
    {
     "name": "stdout",
     "output_type": "stream",
     "text": [
      "> R computed by HQR\n",
      "R =\n",
      "[[ 1.0933807   0.70088524 -1.08421005  1.79212576]\n",
      " [ 0.          1.41026166  0.94677598 -1.05196427]\n",
      " [ 0.          0.          1.04684648 -0.31983404]\n",
      " [ 0.          0.          0.         -1.05666621]]\n"
     ]
    }
   ],
   "source": [
    "print(\"> R computed by HQR\")\n",
    "print(\"R =\\n{}\".format(np.triu(A_out[:n, :])))"
   ]
  },
  {
   "cell_type": "code",
   "execution_count": 4,
   "metadata": {},
   "outputs": [],
   "source": [
    "# Call numpy's qr routine\n",
    "Q, R = np.linalg.qr(A)"
   ]
  },
  {
   "cell_type": "code",
   "execution_count": 5,
   "metadata": {},
   "outputs": [
    {
     "name": "stdout",
     "output_type": "stream",
     "text": [
      "> R computed by qr (numpy routine)\n",
      "R =\n",
      "[[ 1.0933807   0.70088524 -1.08421005  1.79212576]\n",
      " [ 0.          1.41026166  0.94677598 -1.05196427]\n",
      " [ 0.          0.          1.04684648 -0.31983404]\n",
      " [ 0.          0.          0.         -1.05666621]]\n"
     ]
    }
   ],
   "source": [
    "print(\"> R computed by qr (numpy routine)\")\n",
    "print(\"R =\\n{}\".format(R))"
   ]
  },
  {
   "cell_type": "code",
   "execution_count": 6,
   "metadata": {},
   "outputs": [
    {
     "name": "stdout",
     "output_type": "stream",
     "text": [
      "> Report difference\n",
      "[[-2.22044605e-16  0.00000000e+00 -4.44089210e-16 -4.44089210e-16]\n",
      " [ 0.00000000e+00 -2.22044605e-16  1.11022302e-16  4.44089210e-16]\n",
      " [ 0.00000000e+00  0.00000000e+00  0.00000000e+00 -2.22044605e-16]\n",
      " [ 0.00000000e+00  0.00000000e+00  0.00000000e+00  2.22044605e-16]]\n"
     ]
    }
   ],
   "source": [
    "print(\"> Report difference\")\n",
    "print(np.triu(A_out[:n, :]) - R)"
   ]
  },
  {
   "cell_type": "code",
   "execution_count": 7,
   "metadata": {},
   "outputs": [
    {
     "name": "stdout",
     "output_type": "stream",
     "text": [
      "> Warning: since diagonal elements of R are not chosen to be positive\n",
      "           R may not be unique\n"
     ]
    }
   ],
   "source": [
    "print(\"> Warning: since diagonal elements of R are not chosen to be positive\")\n",
    "print(\"           R may not be unique\")"
   ]
  },
  {
   "cell_type": "code",
   "execution_count": null,
   "metadata": {},
   "outputs": [],
   "source": []
  }
 ],
 "metadata": {
  "kernelspec": {
   "display_name": "Python 3",
   "language": "python",
   "name": "python3"
  },
  "language_info": {
   "codemirror_mode": {
    "name": "ipython",
    "version": 3
   },
   "file_extension": ".py",
   "mimetype": "text/x-python",
   "name": "python",
   "nbconvert_exporter": "python",
   "pygments_lexer": "ipython3",
   "version": "3.7.9"
  },
  "latex_envs": {
   "LaTeX_envs_menu_present": true,
   "autoclose": false,
   "autocomplete": true,
   "bibliofile": "biblio.bib",
   "cite_by": "apalike",
   "current_citInitial": 1,
   "eqLabelWithNumbers": true,
   "eqNumInitial": 1,
   "hotkeys": {
    "equation": "Ctrl-E",
    "itemize": "Ctrl-I"
   },
   "labels_anchors": false,
   "latex_user_defs": false,
   "report_style_numbering": false,
   "user_envs_cfg": false
  },
  "toc": {
   "base_numbering": 1,
   "nav_menu": {},
   "number_sections": false,
   "sideBar": true,
   "skip_h1_title": false,
   "title_cell": "Table of Contents",
   "title_sidebar": "Contents",
   "toc_cell": false,
   "toc_position": {},
   "toc_section_display": true,
   "toc_window_display": false
  },
  "varInspector": {
   "cols": {
    "lenName": 16,
    "lenType": 16,
    "lenVar": 40
   },
   "kernels_config": {
    "python": {
     "delete_cmd_postfix": "",
     "delete_cmd_prefix": "del ",
     "library": "var_list.py",
     "varRefreshCmd": "print(var_dic_list())"
    },
    "r": {
     "delete_cmd_postfix": ") ",
     "delete_cmd_prefix": "rm(",
     "library": "var_list.r",
     "varRefreshCmd": "cat(var_dic_list()) "
    }
   },
   "types_to_exclude": [
    "module",
    "function",
    "builtin_function_or_method",
    "instance",
    "_Feature"
   ],
   "window_display": false
  }
 },
 "nbformat": 4,
 "nbformat_minor": 2
}
