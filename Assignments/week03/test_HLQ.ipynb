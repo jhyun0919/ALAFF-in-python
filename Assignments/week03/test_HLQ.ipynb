{
 "cells": [
  {
   "cell_type": "code",
   "execution_count": 1,
   "metadata": {},
   "outputs": [],
   "source": [
    "from functions import *\n",
    "import random"
   ]
  },
  {
   "cell_type": "code",
   "execution_count": 2,
   "metadata": {},
   "outputs": [],
   "source": [
    "# seed the random number generator so that we all\n",
    "random.seed(0)\n",
    "\n",
    "# Create random m x n matrix A\n",
    "m = 4\n",
    "n = 5\n",
    "A = np.random.normal(size=(m, n))\n",
    "\n",
    "# Call HLQ\n",
    "A_out, t_out = HLQ(A)"
   ]
  },
  {
   "cell_type": "code",
   "execution_count": 3,
   "metadata": {},
   "outputs": [
    {
     "name": "stdout",
     "output_type": "stream",
     "text": [
      "> A_out computed by HLQ\n",
      "A_out =\n",
      "[[-2.43482343 -0.52377276  0.36627437 -0.23410367 -0.34013752]\n",
      " [-1.06364102 -1.22976523  0.3718877   0.64838062 -0.10049755]\n",
      " [-0.19415521  2.07242318 -1.26541416 -0.15452941  0.42849783]\n",
      " [-0.8758329   0.71329319 -2.30687383  0.79300935 -0.31309219]]\n"
     ]
    }
   ],
   "source": [
    "print(\"> A_out computed by HLQ\")\n",
    "print(\"A_out =\\n{}\".format(A_out))"
   ]
  },
  {
   "cell_type": "code",
   "execution_count": 4,
   "metadata": {},
   "outputs": [],
   "source": [
    "# Call the HQR routine we wrote, with the transpose matrix\n",
    "A_out_QR, t_out_QR = HQR(np.transpose(A))"
   ]
  },
  {
   "cell_type": "code",
   "execution_count": 5,
   "metadata": {},
   "outputs": [
    {
     "name": "stdout",
     "output_type": "stream",
     "text": [
      "> A_out_QR computed by HQR\n",
      "A_out_QR =\n",
      "[[-2.43482343 -1.06364102 -0.19415521 -0.8758329 ]\n",
      " [-0.52377276 -1.22976523  2.07242318  0.71329319]\n",
      " [ 0.36627437  0.3718877  -1.26541416 -2.30687383]\n",
      " [-0.23410367  0.64838062 -0.15452941  0.79300935]\n",
      " [-0.34013752 -0.10049755  0.42849783 -0.31309219]]\n"
     ]
    }
   ],
   "source": [
    "print(\"> A_out_QR computed by HQR\")\n",
    "print(\"A_out_QR =\\n{}\".format(A_out_QR))"
   ]
  },
  {
   "cell_type": "code",
   "execution_count": 6,
   "metadata": {},
   "outputs": [
    {
     "name": "stdout",
     "output_type": "stream",
     "text": [
      "> Report difference (should be the zero matrix)\n",
      "A_out - A_out_QR' =\n",
      "[[ 0.00000000e+00  0.00000000e+00  0.00000000e+00  0.00000000e+00\n",
      "   0.00000000e+00]\n",
      " [ 0.00000000e+00  0.00000000e+00  0.00000000e+00  0.00000000e+00\n",
      "   0.00000000e+00]\n",
      " [ 5.55111512e-17  0.00000000e+00  0.00000000e+00  0.00000000e+00\n",
      "   0.00000000e+00]\n",
      " [ 2.22044605e-16  1.11022302e-16  0.00000000e+00 -2.22044605e-16\n",
      "  -5.55111512e-17]]\n"
     ]
    }
   ],
   "source": [
    "print(\"> Report difference (should be the zero matrix)\")\n",
    "print(\"A_out - A_out_QR' =\\n{}\".format(A_out - np.transpose(A_out_QR)))"
   ]
  },
  {
   "cell_type": "code",
   "execution_count": null,
   "metadata": {},
   "outputs": [],
   "source": []
  }
 ],
 "metadata": {
  "kernelspec": {
   "display_name": "Python 3",
   "language": "python",
   "name": "python3"
  },
  "language_info": {
   "codemirror_mode": {
    "name": "ipython",
    "version": 3
   },
   "file_extension": ".py",
   "mimetype": "text/x-python",
   "name": "python",
   "nbconvert_exporter": "python",
   "pygments_lexer": "ipython3",
   "version": "3.7.9"
  },
  "latex_envs": {
   "LaTeX_envs_menu_present": true,
   "autoclose": false,
   "autocomplete": true,
   "bibliofile": "biblio.bib",
   "cite_by": "apalike",
   "current_citInitial": 1,
   "eqLabelWithNumbers": true,
   "eqNumInitial": 1,
   "hotkeys": {
    "equation": "Ctrl-E",
    "itemize": "Ctrl-I"
   },
   "labels_anchors": false,
   "latex_user_defs": false,
   "report_style_numbering": false,
   "user_envs_cfg": false
  },
  "toc": {
   "base_numbering": 1,
   "nav_menu": {},
   "number_sections": false,
   "sideBar": true,
   "skip_h1_title": false,
   "title_cell": "Table of Contents",
   "title_sidebar": "Contents",
   "toc_cell": false,
   "toc_position": {},
   "toc_section_display": true,
   "toc_window_display": false
  },
  "varInspector": {
   "cols": {
    "lenName": 16,
    "lenType": 16,
    "lenVar": 40
   },
   "kernels_config": {
    "python": {
     "delete_cmd_postfix": "",
     "delete_cmd_prefix": "del ",
     "library": "var_list.py",
     "varRefreshCmd": "print(var_dic_list())"
    },
    "r": {
     "delete_cmd_postfix": ") ",
     "delete_cmd_prefix": "rm(",
     "library": "var_list.r",
     "varRefreshCmd": "cat(var_dic_list()) "
    }
   },
   "types_to_exclude": [
    "module",
    "function",
    "builtin_function_or_method",
    "instance",
    "_Feature"
   ],
   "window_display": false
  }
 },
 "nbformat": 4,
 "nbformat_minor": 2
}
