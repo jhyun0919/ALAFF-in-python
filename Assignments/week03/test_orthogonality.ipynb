{
 "cells": [
  {
   "cell_type": "code",
   "execution_count": 1,
   "metadata": {
    "ExecuteTime": {
     "end_time": "2020-12-26T00:37:39.897308Z",
     "start_time": "2020-12-26T00:37:39.698448Z"
    }
   },
   "outputs": [],
   "source": [
    "from functions import *\n",
    "import matplotlib.pyplot as plt"
   ]
  },
  {
   "cell_type": "code",
   "execution_count": 2,
   "metadata": {
    "ExecuteTime": {
     "end_time": "2020-12-26T00:37:40.064043Z",
     "start_time": "2020-12-26T00:37:40.039695Z"
    }
   },
   "outputs": [],
   "source": [
    "# set epsilon\n",
    "epsilon = 1.0e-16\n",
    "\n",
    "data = []\n",
    "\n",
    "for i in range(17):\n",
    "    A = np.array([[1, 1, 1], [epsilon, 0, 0], [0, epsilon, 0], [0, 0,\n",
    "                                                                epsilon]])\n",
    "\n",
    "    Q_CGS, R_CGS = CGS_QR(A)\n",
    "    Q_MGS, R_MGS = MGS_QR(A)\n",
    "\n",
    "    # Call HQR\n",
    "    A_out, t_out = HQR(A)\n",
    "    # Form Q\n",
    "    Q_HQR = FormQ(A_out, t_out)\n",
    "\n",
    "    data.append([\n",
    "        epsilon,\n",
    "        np.linalg.norm(np.identity(3) - np.dot(np.transpose(Q_CGS), Q_CGS)),\n",
    "        np.linalg.norm(np.identity(3) - np.dot(np.transpose(Q_MGS), Q_MGS)),\n",
    "        np.linalg.norm(np.identity(3) - np.dot(np.transpose(Q_HQR), Q_HQR))\n",
    "    ])\n",
    "\n",
    "    epsilon = epsilon * 10"
   ]
  },
  {
   "cell_type": "code",
   "execution_count": 3,
   "metadata": {
    "ExecuteTime": {
     "end_time": "2020-12-26T00:37:40.726920Z",
     "start_time": "2020-12-26T00:37:40.412252Z"
    }
   },
   "outputs": [
    {
     "data": {
      "image/png": "[encoded data removed]",
      "text/plain": [
       "<Figure size 1080x360 with 3 Axes>"
      ]
     },
     "metadata": {
      "needs_background": "light"
     },
     "output_type": "display_data"
    }
   ],
   "source": [
    "data = np.array(data)\n",
    "\n",
    "plt.figure(figsize=(15, 5))\n",
    "plt.subplot(131)\n",
    "plt.plot(data[:, 0], data[:, 1], 'r', label=\"CGS\")\n",
    "plt.legend()\n",
    "plt.subplot(132)\n",
    "plt.plot(data[:, 0], data[:, 2], 'g', label=\"MGS\")\n",
    "plt.legend()\n",
    "plt.subplot(133)\n",
    "plt.plot(data[:, 0], data[:, 2], 'b', label=\"HQR\")\n",
    "plt.legend()\n",
    "plt.show()"
   ]
  },
  {
   "cell_type": "code",
   "execution_count": null,
   "metadata": {},
   "outputs": [],
   "source": []
  }
 ],
 "metadata": {
  "kernelspec": {
   "display_name": "Python 3",
   "language": "python",
   "name": "python3"
  },
  "language_info": {
   "codemirror_mode": {
    "name": "ipython",
    "version": 3
   },
   "file_extension": ".py",
   "mimetype": "text/x-python",
   "name": "python",
   "nbconvert_exporter": "python",
   "pygments_lexer": "ipython3",
   "version": "3.7.9"
  },
  "latex_envs": {
   "LaTeX_envs_menu_present": true,
   "autoclose": false,
   "autocomplete": true,
   "bibliofile": "biblio.bib",
   "cite_by": "apalike",
   "current_citInitial": 1,
   "eqLabelWithNumbers": true,
   "eqNumInitial": 1,
   "hotkeys": {
    "equation": "Ctrl-E",
    "itemize": "Ctrl-I"
   },
   "labels_anchors": false,
   "latex_user_defs": false,
   "report_style_numbering": false,
   "user_envs_cfg": false
  },
  "toc": {
   "base_numbering": 1,
   "nav_menu": {},
   "number_sections": false,
   "sideBar": true,
   "skip_h1_title": false,
   "title_cell": "Table of Contents",
   "title_sidebar": "Contents",
   "toc_cell": false,
   "toc_position": {},
   "toc_section_display": true,
   "toc_window_display": false
  },
  "varInspector": {
   "cols": {
    "lenName": 16,
    "lenType": 16,
    "lenVar": 40
   },
   "kernels_config": {
    "python": {
     "delete_cmd_postfix": "",
     "delete_cmd_prefix": "del ",
     "library": "var_list.py",
     "varRefreshCmd": "print(var_dic_list())"
    },
    "r": {
     "delete_cmd_postfix": ") ",
     "delete_cmd_prefix": "rm(",
     "library": "var_list.r",
     "varRefreshCmd": "cat(var_dic_list()) "
    }
   },
   "types_to_exclude": [
    "module",
    "function",
    "builtin_function_or_method",
    "instance",
    "_Feature"
   ],
   "window_display": false
  }
 },
 "nbformat": 4,
 "nbformat_minor": 2
}
