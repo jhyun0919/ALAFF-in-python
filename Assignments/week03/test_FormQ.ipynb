{
 "cells": [
  {
   "cell_type": "code",
   "execution_count": 1,
   "metadata": {},
   "outputs": [],
   "source": [
    "from functions import *\n",
    "import random"
   ]
  },
  {
   "cell_type": "code",
   "execution_count": 2,
   "metadata": {},
   "outputs": [],
   "source": [
    "# seed the random number generator so that we all\n",
    "random.seed(0)\n",
    "\n",
    "# Create random m x n matrix A\n",
    "m = 5\n",
    "n = 4\n",
    "A = np.random.normal(size=(m, n))\n",
    "\n",
    "# Call HQR\n",
    "A_out, t_out = HQR(A)\n",
    "\n",
    "# Set R = upper triangular part of A\n",
    "R = np.triu(A_out[:n, :])\n",
    "\n",
    "# FormQ\n",
    "Q = FormQ(A_out, t_out)"
   ]
  },
  {
   "cell_type": "code",
   "execution_count": 3,
   "metadata": {},
   "outputs": [
    {
     "name": "stdout",
     "output_type": "stream",
     "text": [
      "A - Q * R =\n",
      "[[-2.22044605e-16 -2.22044605e-16 -3.33066907e-16 -1.11022302e-16]\n",
      " [ 0.00000000e+00 -5.55111512e-17  4.44089210e-16  2.22044605e-16]\n",
      " [ 0.00000000e+00  5.55111512e-17  0.00000000e+00  2.22044605e-16]\n",
      " [ 0.00000000e+00  4.44089210e-16 -1.11022302e-16 -2.22044605e-16]\n",
      " [-1.11022302e-16 -1.38777878e-16 -1.11022302e-16  5.55111512e-17]]\n"
     ]
    }
   ],
   "source": [
    "# Check A - Q * R\n",
    "print(\"A - Q * R =\\n{}\".format(A - np.dot(Q, R)))"
   ]
  },
  {
   "cell_type": "code",
   "execution_count": 5,
   "metadata": {},
   "outputs": [
    {
     "name": "stdout",
     "output_type": "stream",
     "text": [
      "norm( A - Q * R ) = 9.10873547778187e-16\n"
     ]
    }
   ],
   "source": [
    "# Report norm( A - Q * R )\n",
    "print(\"norm( A - Q * R ) = {}\".format(np.linalg.norm(A - np.dot(Q, R))))"
   ]
  },
  {
   "cell_type": "code",
   "execution_count": null,
   "metadata": {},
   "outputs": [],
   "source": []
  }
 ],
 "metadata": {
  "kernelspec": {
   "display_name": "Python 3",
   "language": "python",
   "name": "python3"
  },
  "language_info": {
   "codemirror_mode": {
    "name": "ipython",
    "version": 3
   },
   "file_extension": ".py",
   "mimetype": "text/x-python",
   "name": "python",
   "nbconvert_exporter": "python",
   "pygments_lexer": "ipython3",
   "version": "3.7.9"
  },
  "latex_envs": {
   "LaTeX_envs_menu_present": true,
   "autoclose": false,
   "autocomplete": true,
   "bibliofile": "biblio.bib",
   "cite_by": "apalike",
   "current_citInitial": 1,
   "eqLabelWithNumbers": true,
   "eqNumInitial": 1,
   "hotkeys": {
    "equation": "Ctrl-E",
    "itemize": "Ctrl-I"
   },
   "labels_anchors": false,
   "latex_user_defs": false,
   "report_style_numbering": false,
   "user_envs_cfg": false
  },
  "toc": {
   "base_numbering": 1,
   "nav_menu": {},
   "number_sections": false,
   "sideBar": true,
   "skip_h1_title": false,
   "title_cell": "Table of Contents",
   "title_sidebar": "Contents",
   "toc_cell": false,
   "toc_position": {},
   "toc_section_display": true,
   "toc_window_display": false
  },
  "varInspector": {
   "cols": {
    "lenName": 16,
    "lenType": 16,
    "lenVar": 40
   },
   "kernels_config": {
    "python": {
     "delete_cmd_postfix": "",
     "delete_cmd_prefix": "del ",
     "library": "var_list.py",
     "varRefreshCmd": "print(var_dic_list())"
    },
    "r": {
     "delete_cmd_postfix": ") ",
     "delete_cmd_prefix": "rm(",
     "library": "var_list.r",
     "varRefreshCmd": "cat(var_dic_list()) "
    }
   },
   "types_to_exclude": [
    "module",
    "function",
    "builtin_function_or_method",
    "instance",
    "_Feature"
   ],
   "window_display": false
  }
 },
 "nbformat": 4,
 "nbformat_minor": 2
}
